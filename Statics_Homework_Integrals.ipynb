{
  "nbformat": 4,
  "nbformat_minor": 0,
  "metadata": {
    "colab": {
      "name": "Statics Homework Integrals",
      "provenance": [],
      "collapsed_sections": [],
      "include_colab_link": true
    },
    "kernelspec": {
      "name": "python3",
      "display_name": "Python 3"
    },
    "language_info": {
      "name": "python"
    }
  },
  "cells": [
    {
      "cell_type": "markdown",
      "metadata": {
        "id": "view-in-github",
        "colab_type": "text"
      },
      "source": [
        "<a href=\"https://colab.research.google.com/github/anasatryan/MovieProject/blob/main/Statics_Homework_Integrals.ipynb\" target=\"_parent\"><img src=\"https://colab.research.google.com/assets/colab-badge.svg\" alt=\"Open In Colab\"/></a>"
      ]
    },
    {
      "cell_type": "code",
      "metadata": {
        "id": "Bo_gfMkAGmRN"
      },
      "source": [
        "from sympy import *\n",
        "init_printing(use_unicode=False, wrap_line=False)\n",
        "x = Symbol('x')\n",
        "a = Symbol('a')\n",
        "b = Symbol('b')\n",
        "h = Symbol('h')"
      ],
      "execution_count": 1,
      "outputs": []
    },
    {
      "cell_type": "code",
      "metadata": {
        "colab": {
          "base_uri": "https://localhost:8080/",
          "height": 81
        },
        "id": "7qjZELtRGtrJ",
        "outputId": "2031110e-d468-4e50-b444-66b560f8ad41"
      },
      "source": [
        "def f1():\n",
        "    return ((x*b)/(a**2)) * (x**2 - (x**3)/a)\n",
        "int1 = Integral(f1(), (x, 0, a))\n",
        "int1"
      ],
      "execution_count": 2,
      "outputs": [
        {
          "output_type": "execute_result",
          "data": {
            "image/png": "[encoded data removed]",
            "text/latex": "$\\displaystyle \\int\\limits_{0}^{a} \\frac{b x \\left(x^{2} - \\frac{x^{3}}{a}\\right)}{a^{2}}\\, dx$",
            "text/plain": [
              "  a                 \n",
              "  /                 \n",
              " |                  \n",
              " |      /      3\\   \n",
              " |      | 2   x |   \n",
              " |  b*x*|x  - --|   \n",
              " |      \\     a /   \n",
              " |  ------------- dx\n",
              " |         2        \n",
              " |        a         \n",
              " |                  \n",
              "/                   \n",
              "0                   "
            ]
          },
          "metadata": {
            "tags": []
          },
          "execution_count": 2
        }
      ]
    },
    {
      "cell_type": "markdown",
      "metadata": {
        "id": "4Ox31WFYYr2z"
      },
      "source": [
        "Problem 1\n"
      ]
    },
    {
      "cell_type": "code",
      "metadata": {
        "id": "QzITJsHZH1n_",
        "colab": {
          "base_uri": "https://localhost:8080/",
          "height": 54
        },
        "outputId": "0c3c758c-681d-4d0c-f61e-1fd15c7225ce"
      },
      "source": [
        "int1.doit()"
      ],
      "execution_count": 3,
      "outputs": [
        {
          "output_type": "execute_result",
          "data": {
            "image/png": "[encoded data removed]",
            "text/latex": "$\\displaystyle \\frac{a^{2} b}{20}$",
            "text/plain": [
              " 2  \n",
              "a *b\n",
              "----\n",
              " 20 "
            ]
          },
          "metadata": {
            "tags": []
          },
          "execution_count": 3
        }
      ]
    },
    {
      "cell_type": "code",
      "metadata": {
        "id": "MGypkakoJ4rs",
        "colab": {
          "base_uri": "https://localhost:8080/",
          "height": 77
        },
        "outputId": "2ca9e183-bb28-46fe-c71d-860d2144e364"
      },
      "source": [
        "def f2():\n",
        "    return (sqrt(4 * a + 9 * x)) / (2 * sqrt(a))\n",
        "int2 = Integral(f2(), (x, 0, a))\n",
        "int2"
      ],
      "execution_count": 4,
      "outputs": [
        {
          "output_type": "execute_result",
          "data": {
            "image/png": "[encoded data removed]",
            "text/latex": "$\\displaystyle \\int\\limits_{0}^{a} \\frac{\\sqrt{4 a + 9 x}}{2 \\sqrt{a}}\\, dx$",
            "text/plain": [
              "  a                 \n",
              "  /                 \n",
              " |                  \n",
              " |    ___________   \n",
              " |  \\/ 4*a + 9*x    \n",
              " |  ------------- dx\n",
              " |         ___      \n",
              " |     2*\\/ a       \n",
              " |                  \n",
              "/                   \n",
              "0                   "
            ]
          },
          "metadata": {
            "tags": []
          },
          "execution_count": 4
        }
      ]
    },
    {
      "cell_type": "markdown",
      "metadata": {
        "id": "g6PBbSmYZE9w"
      },
      "source": [
        "Problem 2"
      ]
    },
    {
      "cell_type": "code",
      "metadata": {
        "colab": {
          "base_uri": "https://localhost:8080/",
          "height": 56
        },
        "id": "oQZxr1gGKNxm",
        "outputId": "53ebcf88-08cc-4219-c5ac-6cd6e7c01c38"
      },
      "source": [
        "int2.doit()"
      ],
      "execution_count": 5,
      "outputs": [
        {
          "output_type": "execute_result",
          "data": {
            "image/png": "[encoded data removed]",
            "text/latex": "$\\displaystyle - \\frac{8 a}{27} + \\frac{13 \\sqrt{13} a}{27}$",
            "text/plain": [
              "             ____  \n",
              "  8*a   13*\\/ 13 *a\n",
              "- --- + -----------\n",
              "   27        27    "
            ]
          },
          "metadata": {
            "tags": []
          },
          "execution_count": 5
        }
      ]
    },
    {
      "cell_type": "code",
      "metadata": {
        "id": "nWBpH7iiv6nZ"
      },
      "source": [
        ""
      ],
      "execution_count": 5,
      "outputs": []
    },
    {
      "cell_type": "code",
      "metadata": {
        "colab": {
          "base_uri": "https://localhost:8080/",
          "height": 77
        },
        "id": "L5idBvx0KRZD",
        "outputId": "27c47475-fae2-427c-987c-d71dacc2c6c3"
      },
      "source": [
        "def f3():\n",
        "  return (x/(2*sqrt(a)))*sqrt(4*a+9*x)\n",
        "\n",
        "int3 = Integral(f3(), (x, 0, a))\n",
        "int3\n"
      ],
      "execution_count": 6,
      "outputs": [
        {
          "output_type": "execute_result",
          "data": {
            "image/png": "[encoded data removed]",
            "text/latex": "$\\displaystyle \\int\\limits_{0}^{a} \\frac{x \\sqrt{4 a + 9 x}}{2 \\sqrt{a}}\\, dx$",
            "text/plain": [
              "  a                   \n",
              "  /                   \n",
              " |                    \n",
              " |      ___________   \n",
              " |  x*\\/ 4*a + 9*x    \n",
              " |  --------------- dx\n",
              " |          ___       \n",
              " |      2*\\/ a        \n",
              " |                    \n",
              "/                     \n",
              "0                     "
            ]
          },
          "metadata": {
            "tags": []
          },
          "execution_count": 6
        }
      ]
    },
    {
      "cell_type": "markdown",
      "metadata": {
        "id": "I5fXSt7WZMkX"
      },
      "source": [
        "Problem 2"
      ]
    },
    {
      "cell_type": "code",
      "metadata": {
        "colab": {
          "base_uri": "https://localhost:8080/",
          "height": 67
        },
        "id": "uQptM9M8L_Yj",
        "outputId": "61f27c1f-a3bf-4b54-de53-5c8f211ab228"
      },
      "source": [
        "int3.doit()"
      ],
      "execution_count": 7,
      "outputs": [
        {
          "output_type": "execute_result",
          "data": {
            "image/png": "[encoded data removed]",
            "text/latex": "$\\displaystyle \\frac{\\frac{128 a^{\\frac{5}{2}}}{1215} + \\frac{494 \\sqrt{13} a^{\\frac{5}{2}}}{1215}}{2 \\sqrt{a}}$",
            "text/plain": [
              "     5/2         ____  5/2\n",
              "128*a      494*\\/ 13 *a   \n",
              "-------- + ---------------\n",
              "  1215           1215     \n",
              "--------------------------\n",
              "             ___          \n",
              "         2*\\/ a           "
            ]
          },
          "metadata": {
            "tags": []
          },
          "execution_count": 7
        }
      ]
    },
    {
      "cell_type": "code",
      "metadata": {
        "colab": {
          "base_uri": "https://localhost:8080/",
          "height": 81
        },
        "id": "mu5zb0KfMHax",
        "outputId": "d045b1c8-0ecf-4198-fb64-04af836db23d"
      },
      "source": [
        "def f4():\n",
        "  return ((b*(x**2)/(a**2) + (b*(x**3)/(a**3)))*b/(a**2)*(x**2-(x**3)/a))/2\n",
        "\n",
        "int4 = Integral(f4(), (x, 0, a))\n",
        "\n",
        "int4"
      ],
      "execution_count": 8,
      "outputs": [
        {
          "output_type": "execute_result",
          "data": {
            "image/png": "[encoded data removed]",
            "text/latex": "$\\displaystyle \\int\\limits_{0}^{a} \\frac{b \\left(x^{2} - \\frac{x^{3}}{a}\\right) \\left(\\frac{b x^{2}}{a^{2}} + \\frac{b x^{3}}{a^{3}}\\right)}{2 a^{2}}\\, dx$",
            "text/plain": [
              "  a                             \n",
              "  /                             \n",
              " |                              \n",
              " |    /      3\\ /   2      3\\   \n",
              " |    | 2   x | |b*x    b*x |   \n",
              " |  b*|x  - --|*|---- + ----|   \n",
              " |    \\     a / |  2      3 |   \n",
              " |              \\ a      a  /   \n",
              " |  ------------------------- dx\n",
              " |                2             \n",
              " |             2*a              \n",
              " |                              \n",
              "/                               \n",
              "0                               "
            ]
          },
          "metadata": {
            "tags": []
          },
          "execution_count": 8
        }
      ]
    },
    {
      "cell_type": "markdown",
      "metadata": {
        "id": "hg1EJ0SoZlk3"
      },
      "source": [
        "Problem 1"
      ]
    },
    {
      "cell_type": "code",
      "metadata": {
        "colab": {
          "base_uri": "https://localhost:8080/",
          "height": 54
        },
        "id": "Sjds_VaTOYQJ",
        "outputId": "607a3c89-25d5-4eb6-d6fb-a2aaea677648"
      },
      "source": [
        "int4.doit()"
      ],
      "execution_count": 9,
      "outputs": [
        {
          "output_type": "execute_result",
          "data": {
            "image/png": "[encoded data removed]",
            "text/latex": "$\\displaystyle \\frac{a b^{2}}{35}$",
            "text/plain": [
              "   2\n",
              "a*b \n",
              "----\n",
              " 35 "
            ]
          },
          "metadata": {
            "tags": []
          },
          "execution_count": 9
        }
      ]
    },
    {
      "cell_type": "code",
      "metadata": {
        "colab": {
          "base_uri": "https://localhost:8080/",
          "height": 80
        },
        "id": "wGiwlde8OeXO",
        "outputId": "00401ba1-f1db-473a-a607-7ed27e3b30d7"
      },
      "source": [
        "def f5():\n",
        "  return (x*(pi*(a**2)*((x-h)**4))/h**4)\n",
        "int5 = Integral(f5(), (x, 0, h))\n",
        "int5\n"
      ],
      "execution_count": 10,
      "outputs": [
        {
          "output_type": "execute_result",
          "data": {
            "image/png": "[encoded data removed]",
            "text/latex": "$\\displaystyle \\int\\limits_{0}^{h} \\frac{\\pi a^{2} x \\left(- h + x\\right)^{4}}{h^{4}}\\, dx$",
            "text/plain": [
              "  h                     \n",
              "  /                     \n",
              " |                      \n",
              " |      2           4   \n",
              " |  pi*a *x*(-h + x)    \n",
              " |  ----------------- dx\n",
              " |           4          \n",
              " |          h           \n",
              " |                      \n",
              "/                       \n",
              "0                       "
            ]
          },
          "metadata": {
            "tags": []
          },
          "execution_count": 10
        }
      ]
    },
    {
      "cell_type": "markdown",
      "metadata": {
        "id": "Ua5nKFvYZqhl"
      },
      "source": [
        "Problem 8"
      ]
    },
    {
      "cell_type": "code",
      "metadata": {
        "colab": {
          "base_uri": "https://localhost:8080/",
          "height": 54
        },
        "id": "6816iUSvQO4O",
        "outputId": "32c05550-b39c-4bc6-a318-d9986e0b927e"
      },
      "source": [
        "int5.doit() "
      ],
      "execution_count": 11,
      "outputs": [
        {
          "output_type": "execute_result",
          "data": {
            "image/png": "[encoded data removed]",
            "text/latex": "$\\displaystyle \\frac{\\pi a^{2} h^{2}}{30}$",
            "text/plain": [
              "    2  2\n",
              "pi*a *h \n",
              "--------\n",
              "   30   "
            ]
          },
          "metadata": {
            "tags": []
          },
          "execution_count": 11
        }
      ]
    }
  ]
}